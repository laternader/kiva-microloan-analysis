{
 "cells": [
  {
   "cell_type": "code",
   "execution_count": 1,
   "metadata": {},
   "outputs": [
    {
     "name": "stdout",
     "output_type": "stream",
     "text": [
      "finished importing modules\n"
     ]
    }
   ],
   "source": [
    "# Data cleaning and EDA modules\n",
    "\n",
    "import pandas as pd\n",
    "import numpy as np\n",
    "\n",
    "import seaborn as sns\n",
    "import matplotlib.pyplot as plt\n",
    "from sklearn import tree\n",
    "# from sklearn.tree import export_graphviz  \n",
    "\n",
    "\n",
    "# Estimation model modules\n",
    "\n",
    "from sklearn.linear_model import LinearRegression\n",
    "from sklearn.tree import DecisionTreeRegressor\n",
    "from sklearn.ensemble import BaggingRegressor\n",
    "from sklearn.ensemble import RandomForestRegressor\n",
    "from sklearn.ensemble import AdaBoostRegressor\n",
    "from sklearn.svm import  SVR                            # support vector machine\n",
    "\n",
    "\n",
    "# Model validation modules\n",
    "\n",
    "from sklearn.model_selection import train_test_split\n",
    "from sklearn.model_selection import train_test_split, cross_val_score\n",
    "\n",
    "\n",
    "\n",
    "# model metrics modules\n",
    "\n",
    "from sklearn.metrics import mean_squared_error \n",
    "from sklearn.metrics import mean_squared_error \n",
    "\n",
    "#Pipeline and grid search modules\n",
    "\n",
    "from sklearn.model_selection import GridSearchCV\n",
    "\n",
    "\n",
    "print('finished importing modules')"
   ]
  },
  {
   "cell_type": "code",
   "execution_count": null,
   "metadata": {},
   "outputs": [],
   "source": []
  },
  {
   "cell_type": "code",
   "execution_count": 2,
   "metadata": {},
   "outputs": [],
   "source": [
    "df = pd.read_csv('../../timmy-data/loans_cleaned.csv')"
   ]
  },
  {
   "cell_type": "code",
   "execution_count": null,
   "metadata": {},
   "outputs": [],
   "source": []
  },
  {
   "cell_type": "code",
   "execution_count": 3,
   "metadata": {},
   "outputs": [
    {
     "data": {
      "text/html": [
       "<div>\n",
       "<style scoped>\n",
       "    .dataframe tbody tr th:only-of-type {\n",
       "        vertical-align: middle;\n",
       "    }\n",
       "\n",
       "    .dataframe tbody tr th {\n",
       "        vertical-align: top;\n",
       "    }\n",
       "\n",
       "    .dataframe thead th {\n",
       "        text-align: right;\n",
       "    }\n",
       "</style>\n",
       "<table border=\"1\" class=\"dataframe\">\n",
       "  <thead>\n",
       "    <tr style=\"text-align: right;\">\n",
       "      <th></th>\n",
       "      <th>loan_id</th>\n",
       "      <th>status</th>\n",
       "      <th>posted_time</th>\n",
       "      <th>raised_time</th>\n",
       "      <th>loan_amount</th>\n",
       "      <th>activity_name</th>\n",
       "      <th>sector_name</th>\n",
       "      <th>country_name</th>\n",
       "      <th>lender_term</th>\n",
       "      <th>repayment_interval</th>\n",
       "      <th>borrower_genders</th>\n",
       "      <th>time_to_fund</th>\n",
       "      <th>hours_to_fund</th>\n",
       "      <th>loan_year</th>\n",
       "      <th>day_posted</th>\n",
       "      <th>image_incl</th>\n",
       "      <th>video_incl</th>\n",
       "    </tr>\n",
       "  </thead>\n",
       "  <tbody>\n",
       "    <tr>\n",
       "      <th>0</th>\n",
       "      <td>372964</td>\n",
       "      <td>funded</td>\n",
       "      <td>2011-12-20 06:04:56+00:00</td>\n",
       "      <td>2012-01-02 09:01:26+00:00</td>\n",
       "      <td>175.0</td>\n",
       "      <td>General Store</td>\n",
       "      <td>Retail</td>\n",
       "      <td>Philippines</td>\n",
       "      <td>8.0</td>\n",
       "      <td>monthly</td>\n",
       "      <td>F</td>\n",
       "      <td>13 days 02:56:30.000000000</td>\n",
       "      <td>315</td>\n",
       "      <td>2011</td>\n",
       "      <td>Tuesday</td>\n",
       "      <td>1</td>\n",
       "      <td>0</td>\n",
       "    </tr>\n",
       "    <tr>\n",
       "      <th>1</th>\n",
       "      <td>1037234</td>\n",
       "      <td>funded</td>\n",
       "      <td>2016-03-11 11:24:20+00:00</td>\n",
       "      <td>2016-04-12 23:29:40+00:00</td>\n",
       "      <td>400.0</td>\n",
       "      <td>Retail</td>\n",
       "      <td>Retail</td>\n",
       "      <td>Pakistan</td>\n",
       "      <td>13.0</td>\n",
       "      <td>monthly</td>\n",
       "      <td>F</td>\n",
       "      <td>32 days 12:05:20.000000000</td>\n",
       "      <td>781</td>\n",
       "      <td>2016</td>\n",
       "      <td>Friday</td>\n",
       "      <td>1</td>\n",
       "      <td>0</td>\n",
       "    </tr>\n",
       "    <tr>\n",
       "      <th>2</th>\n",
       "      <td>1037493</td>\n",
       "      <td>funded</td>\n",
       "      <td>2016-03-11 22:00:46+00:00</td>\n",
       "      <td>2016-03-24 08:31:37+00:00</td>\n",
       "      <td>3400.0</td>\n",
       "      <td>Butcher Shop</td>\n",
       "      <td>Food</td>\n",
       "      <td>Bolivia</td>\n",
       "      <td>10.0</td>\n",
       "      <td>monthly</td>\n",
       "      <td>G</td>\n",
       "      <td>12 days 10:30:51.000000000</td>\n",
       "      <td>299</td>\n",
       "      <td>2016</td>\n",
       "      <td>Friday</td>\n",
       "      <td>1</td>\n",
       "      <td>0</td>\n",
       "    </tr>\n",
       "    <tr>\n",
       "      <th>3</th>\n",
       "      <td>1800053</td>\n",
       "      <td>funded</td>\n",
       "      <td>2019-07-17 05:42:15+00:00</td>\n",
       "      <td>2019-07-19 13:01:53+00:00</td>\n",
       "      <td>150.0</td>\n",
       "      <td>Fish Selling</td>\n",
       "      <td>Food</td>\n",
       "      <td>Philippines</td>\n",
       "      <td>8.0</td>\n",
       "      <td>monthly</td>\n",
       "      <td>F</td>\n",
       "      <td>2 days 07:19:38.000000000</td>\n",
       "      <td>56</td>\n",
       "      <td>2019</td>\n",
       "      <td>Wednesday</td>\n",
       "      <td>1</td>\n",
       "      <td>0</td>\n",
       "    </tr>\n",
       "    <tr>\n",
       "      <th>4</th>\n",
       "      <td>542923</td>\n",
       "      <td>funded</td>\n",
       "      <td>2013-03-26 15:15:18+00:00</td>\n",
       "      <td>2013-03-28 01:46:04+00:00</td>\n",
       "      <td>775.0</td>\n",
       "      <td>Food Production/Sales</td>\n",
       "      <td>Food</td>\n",
       "      <td>Guatemala</td>\n",
       "      <td>8.0</td>\n",
       "      <td>monthly</td>\n",
       "      <td>G</td>\n",
       "      <td>1 days 10:30:46.000000000</td>\n",
       "      <td>35</td>\n",
       "      <td>2013</td>\n",
       "      <td>Tuesday</td>\n",
       "      <td>1</td>\n",
       "      <td>0</td>\n",
       "    </tr>\n",
       "  </tbody>\n",
       "</table>\n",
       "</div>"
      ],
      "text/plain": [
       "   loan_id  status                posted_time                raised_time  \\\n",
       "0   372964  funded  2011-12-20 06:04:56+00:00  2012-01-02 09:01:26+00:00   \n",
       "1  1037234  funded  2016-03-11 11:24:20+00:00  2016-04-12 23:29:40+00:00   \n",
       "2  1037493  funded  2016-03-11 22:00:46+00:00  2016-03-24 08:31:37+00:00   \n",
       "3  1800053  funded  2019-07-17 05:42:15+00:00  2019-07-19 13:01:53+00:00   \n",
       "4   542923  funded  2013-03-26 15:15:18+00:00  2013-03-28 01:46:04+00:00   \n",
       "\n",
       "   loan_amount          activity_name sector_name country_name  lender_term  \\\n",
       "0        175.0          General Store      Retail  Philippines          8.0   \n",
       "1        400.0                 Retail      Retail     Pakistan         13.0   \n",
       "2       3400.0           Butcher Shop        Food      Bolivia         10.0   \n",
       "3        150.0           Fish Selling        Food  Philippines          8.0   \n",
       "4        775.0  Food Production/Sales        Food    Guatemala          8.0   \n",
       "\n",
       "  repayment_interval borrower_genders                time_to_fund  \\\n",
       "0            monthly                F  13 days 02:56:30.000000000   \n",
       "1            monthly                F  32 days 12:05:20.000000000   \n",
       "2            monthly                G  12 days 10:30:51.000000000   \n",
       "3            monthly                F   2 days 07:19:38.000000000   \n",
       "4            monthly                G   1 days 10:30:46.000000000   \n",
       "\n",
       "   hours_to_fund  loan_year day_posted  image_incl  video_incl  \n",
       "0            315       2011    Tuesday           1           0  \n",
       "1            781       2016     Friday           1           0  \n",
       "2            299       2016     Friday           1           0  \n",
       "3             56       2019  Wednesday           1           0  \n",
       "4             35       2013    Tuesday           1           0  "
      ]
     },
     "execution_count": 3,
     "metadata": {},
     "output_type": "execute_result"
    }
   ],
   "source": [
    "df.head(5)"
   ]
  },
  {
   "cell_type": "code",
   "execution_count": null,
   "metadata": {},
   "outputs": [],
   "source": []
  },
  {
   "cell_type": "code",
   "execution_count": 4,
   "metadata": {},
   "outputs": [
    {
     "data": {
      "text/plain": [
       "loan_id               0\n",
       "status                0\n",
       "posted_time           0\n",
       "raised_time           0\n",
       "loan_amount           0\n",
       "activity_name         0\n",
       "sector_name           0\n",
       "country_name          0\n",
       "lender_term           0\n",
       "repayment_interval    0\n",
       "borrower_genders      0\n",
       "time_to_fund          0\n",
       "hours_to_fund         0\n",
       "loan_year             0\n",
       "day_posted            0\n",
       "image_incl            0\n",
       "video_incl            0\n",
       "dtype: int64"
      ]
     },
     "execution_count": 4,
     "metadata": {},
     "output_type": "execute_result"
    }
   ],
   "source": [
    "df.isnull().sum()"
   ]
  },
  {
   "cell_type": "code",
   "execution_count": null,
   "metadata": {},
   "outputs": [],
   "source": []
  },
  {
   "cell_type": "markdown",
   "metadata": {},
   "source": [
    "### Log transform loan amount and hours to fund"
   ]
  },
  {
   "cell_type": "code",
   "execution_count": 5,
   "metadata": {},
   "outputs": [
    {
     "data": {
      "text/plain": [
       "loan_id               0\n",
       "status                0\n",
       "posted_time           0\n",
       "raised_time           0\n",
       "loan_amount           0\n",
       "activity_name         0\n",
       "sector_name           0\n",
       "country_name          0\n",
       "lender_term           0\n",
       "repayment_interval    0\n",
       "borrower_genders      0\n",
       "time_to_fund          0\n",
       "hours_to_fund         0\n",
       "loan_year             0\n",
       "day_posted            0\n",
       "image_incl            0\n",
       "video_incl            0\n",
       "log_amount            0\n",
       "log_htf               0\n",
       "dtype: int64"
      ]
     },
     "execution_count": 5,
     "metadata": {},
     "output_type": "execute_result"
    }
   ],
   "source": [
    "df['log_amount'] = np.log(df['loan_amount'])\n",
    "df['log_htf'] = np.log(df['hours_to_fund'])\n",
    "df.isnull().sum()"
   ]
  },
  {
   "cell_type": "markdown",
   "metadata": {},
   "source": [
    "### Dummify categorical variables - activity, country, and gender"
   ]
  },
  {
   "cell_type": "code",
   "execution_count": 6,
   "metadata": {},
   "outputs": [],
   "source": [
    "df = pd.get_dummies(columns=[\"activity_name\"], drop_first=True, data=df)\n",
    "df = pd.get_dummies(columns=[\"country_name\"], drop_first=True, data=df)\n",
    "df = pd.get_dummies(columns=['borrower_genders'], drop_first=True, data=df)"
   ]
  },
  {
   "cell_type": "code",
   "execution_count": 7,
   "metadata": {},
   "outputs": [],
   "source": [
    "df_1=df.drop(columns=['image_incl', 'video_incl', 'sector_name', 'loan_id', 'status',  \n",
    "                      'day_posted','posted_time', 'raised_time', 'image_incl', 'video_incl', \n",
    "                      'lender_term', 'repayment_interval']).copy()"
   ]
  },
  {
   "cell_type": "code",
   "execution_count": 8,
   "metadata": {},
   "outputs": [
    {
     "data": {
      "text/plain": [
       "Index(['loan_amount', 'time_to_fund', 'hours_to_fund', 'loan_year',\n",
       "       'log_amount', 'log_htf', 'activity_name_Agriculture',\n",
       "       'activity_name_Air Conditioning', 'activity_name_Animal Sales',\n",
       "       'activity_name_Aquaculture',\n",
       "       ...\n",
       "       'country_name_Turkey', 'country_name_Uganda', 'country_name_Ukraine',\n",
       "       'country_name_United States', 'country_name_Vietnam',\n",
       "       'country_name_Yemen', 'country_name_Zambia', 'country_name_Zimbabwe',\n",
       "       'borrower_genders_G', 'borrower_genders_M'],\n",
       "      dtype='object', length=257)"
      ]
     },
     "execution_count": 8,
     "metadata": {},
     "output_type": "execute_result"
    }
   ],
   "source": [
    "df_1.shape\n",
    "features=df_1.columns\n",
    "features"
   ]
  },
  {
   "cell_type": "markdown",
   "metadata": {},
   "source": [
    "### Produce yearly data to supplment panel data"
   ]
  },
  {
   "cell_type": "markdown",
   "metadata": {},
   "source": [
    "### Identify loan threshhold"
   ]
  },
  {
   "cell_type": "code",
   "execution_count": 9,
   "metadata": {},
   "outputs": [],
   "source": [
    "loan_threshhold=1000"
   ]
  },
  {
   "cell_type": "code",
   "execution_count": 10,
   "metadata": {},
   "outputs": [],
   "source": [
    "df_2015=df_1[df_1.loan_year==2015 & (df_1.loan_amount<=loan_threshhold)]\n",
    "df_2016=df_1[df_1.loan_year==2016 & (df_1.loan_amount<=loan_threshhold)]\n",
    "df_2017=df_1[df_1.loan_year==2017 & (df_1.loan_amount<=loan_threshhold)]\n",
    "df_2018=df_1[df_1.loan_year==2018 & (df_1.loan_amount<=loan_threshhold)]\n",
    "df_2019=df_1[(df_1.loan_year>=2019) & (df_1.loan_amount<=loan_threshhold)]\n",
    "df_all=df_1[df_1.loan_amount<=loan_threshhold]"
   ]
  },
  {
   "cell_type": "code",
   "execution_count": 11,
   "metadata": {},
   "outputs": [
    {
     "data": {
      "image/png": "[encoded data removed]",
      "text/plain": [
       "<Figure size 432x288 with 1 Axes>"
      ]
     },
     "metadata": {
      "needs_background": "light"
     },
     "output_type": "display_data"
    }
   ],
   "source": [
    "bin_count = 1, 10, 100,1000,10000,100000\n",
    "\n",
    "\n",
    "# plt.hist(df['loan_amount'], bins=50);\n",
    "plt.hist(df_2015['loan_amount'], bins=bin_count);\n",
    "plt.hist(df_2016['loan_amount'], bins=bin_count);\n",
    "plt.hist(df_2017['loan_amount'], bins=bin_count);\n",
    "plt.hist(df_2018['loan_amount'], bins=bin_count);\n",
    "plt.hist(df_2019['loan_amount'], bins=bin_count);"
   ]
  },
  {
   "cell_type": "code",
   "execution_count": 12,
   "metadata": {},
   "outputs": [
    {
     "data": {
      "image/png": "[encoded data removed]",
      "text/plain": [
       "<Figure size 432x288 with 1 Axes>"
      ]
     },
     "metadata": {
      "needs_background": "light"
     },
     "output_type": "display_data"
    }
   ],
   "source": [
    "bin_count = 20\n",
    "\n",
    "\n",
    "# plt.hist(df['loan_amount'], bins=50);\n",
    "plt.hist(df_1['log_amount'], bins=bin_count);\n",
    "plt.hist(df_2015['log_amount'], bins=bin_count);\n",
    "plt.hist(df_2016['log_amount'], bins=bin_count);\n",
    "plt.hist(df_2017['log_amount'], bins=bin_count);\n",
    "plt.hist(df_2018['log_amount'], bins=bin_count);\n",
    "plt.hist(df_2019['log_amount'], bins=bin_count);"
   ]
  },
  {
   "cell_type": "code",
   "execution_count": 13,
   "metadata": {},
   "outputs": [
    {
     "data": {
      "image/png": "[encoded data removed]",
      "text/plain": [
       "<Figure size 432x288 with 1 Axes>"
      ]
     },
     "metadata": {
      "needs_background": "light"
     },
     "output_type": "display_data"
    }
   ],
   "source": [
    "bin_count = 50\n",
    "\n",
    "plt.hist(df_2015['hours_to_fund'], bins=bin_count);\n",
    "plt.hist(df_2016['hours_to_fund'], bins=bin_count);\n",
    "plt.hist(df_2017['hours_to_fund'], bins=bin_count);\n",
    "plt.hist(df_2018['hours_to_fund'], bins=bin_count);\n",
    "plt.hist(df_2019['hours_to_fund'], bins=bin_count);\n"
   ]
  },
  {
   "cell_type": "code",
   "execution_count": 14,
   "metadata": {},
   "outputs": [
    {
     "data": {
      "image/png": "[encoded data removed]",
      "text/plain": [
       "<Figure size 432x288 with 1 Axes>"
      ]
     },
     "metadata": {
      "needs_background": "light"
     },
     "output_type": "display_data"
    }
   ],
   "source": [
    "bin_count = 50\n",
    "\n",
    "\n",
    "plt.hist(df_2015['log_htf'], bins=bin_count);\n",
    "plt.hist(df_2016['log_htf'], bins=bin_count);\n",
    "plt.hist(df_2017['log_htf'], bins=bin_count);\n",
    "plt.hist(df_2018['log_htf'], bins=bin_count);\n",
    "plt.hist(df_2019['log_htf'], bins=bin_count);"
   ]
  },
  {
   "cell_type": "code",
   "execution_count": 15,
   "metadata": {},
   "outputs": [
    {
     "data": {
      "text/plain": [
       "Index(['log_amount', 'activity_name_Agriculture',\n",
       "       'activity_name_Air Conditioning', 'activity_name_Animal Sales',\n",
       "       'activity_name_Aquaculture', 'activity_name_Arts',\n",
       "       'activity_name_Auto Repair', 'activity_name_Bakery',\n",
       "       'activity_name_Balut-Making', 'activity_name_Barber Shop',\n",
       "       ...\n",
       "       'country_name_Turkey', 'country_name_Uganda', 'country_name_Ukraine',\n",
       "       'country_name_United States', 'country_name_Vietnam',\n",
       "       'country_name_Yemen', 'country_name_Zambia', 'country_name_Zimbabwe',\n",
       "       'borrower_genders_G', 'borrower_genders_M'],\n",
       "      dtype='object', length=252)"
      ]
     },
     "execution_count": 15,
     "metadata": {},
     "output_type": "execute_result"
    }
   ],
   "source": [
    "df_2=df_1.drop(columns=['loan_amount', 'time_to_fund', 'log_htf', 'hours_to_fund', 'loan_year']).copy()\n",
    "features = df_2.columns \n",
    "features"
   ]
  },
  {
   "cell_type": "code",
   "execution_count": 16,
   "metadata": {},
   "outputs": [],
   "source": [
    "feature_cypher=df_2.isnull().sum()\n",
    "\n",
    "feature_cypher.to_excel(\"feature_cypher.xlsx\") \n",
    "# print(feature_cypher)"
   ]
  },
  {
   "cell_type": "markdown",
   "metadata": {},
   "source": [
    "### Identify time period for transactions"
   ]
  },
  {
   "cell_type": "code",
   "execution_count": 17,
   "metadata": {},
   "outputs": [],
   "source": [
    "df=df_all"
   ]
  },
  {
   "cell_type": "markdown",
   "metadata": {},
   "source": [
    "### Configure model"
   ]
  },
  {
   "cell_type": "code",
   "execution_count": 18,
   "metadata": {},
   "outputs": [],
   "source": [
    "X = df[features]\n",
    "y = df['log_htf']\n",
    "\n",
    "X_train, X_test, y_train, y_test = train_test_split(X, y, random_state=42)"
   ]
  },
  {
   "cell_type": "code",
   "execution_count": 19,
   "metadata": {},
   "outputs": [
    {
     "data": {
      "text/html": [
       "<div>\n",
       "<style scoped>\n",
       "    .dataframe tbody tr th:only-of-type {\n",
       "        vertical-align: middle;\n",
       "    }\n",
       "\n",
       "    .dataframe tbody tr th {\n",
       "        vertical-align: top;\n",
       "    }\n",
       "\n",
       "    .dataframe thead th {\n",
       "        text-align: right;\n",
       "    }\n",
       "</style>\n",
       "<table border=\"1\" class=\"dataframe\">\n",
       "  <thead>\n",
       "    <tr style=\"text-align: right;\">\n",
       "      <th></th>\n",
       "      <th>log_amount</th>\n",
       "      <th>activity_name_Agriculture</th>\n",
       "      <th>activity_name_Air Conditioning</th>\n",
       "      <th>activity_name_Animal Sales</th>\n",
       "      <th>activity_name_Aquaculture</th>\n",
       "      <th>activity_name_Arts</th>\n",
       "      <th>activity_name_Auto Repair</th>\n",
       "      <th>activity_name_Bakery</th>\n",
       "      <th>activity_name_Balut-Making</th>\n",
       "      <th>activity_name_Barber Shop</th>\n",
       "      <th>...</th>\n",
       "      <th>country_name_Turkey</th>\n",
       "      <th>country_name_Uganda</th>\n",
       "      <th>country_name_Ukraine</th>\n",
       "      <th>country_name_United States</th>\n",
       "      <th>country_name_Vietnam</th>\n",
       "      <th>country_name_Yemen</th>\n",
       "      <th>country_name_Zambia</th>\n",
       "      <th>country_name_Zimbabwe</th>\n",
       "      <th>borrower_genders_G</th>\n",
       "      <th>borrower_genders_M</th>\n",
       "    </tr>\n",
       "  </thead>\n",
       "  <tbody>\n",
       "    <tr>\n",
       "      <th>0</th>\n",
       "      <td>5.164786</td>\n",
       "      <td>0</td>\n",
       "      <td>0</td>\n",
       "      <td>0</td>\n",
       "      <td>0</td>\n",
       "      <td>0</td>\n",
       "      <td>0</td>\n",
       "      <td>0</td>\n",
       "      <td>0</td>\n",
       "      <td>0</td>\n",
       "      <td>...</td>\n",
       "      <td>0</td>\n",
       "      <td>0</td>\n",
       "      <td>0</td>\n",
       "      <td>0</td>\n",
       "      <td>0</td>\n",
       "      <td>0</td>\n",
       "      <td>0</td>\n",
       "      <td>0</td>\n",
       "      <td>0</td>\n",
       "      <td>0</td>\n",
       "    </tr>\n",
       "    <tr>\n",
       "      <th>1</th>\n",
       "      <td>5.991465</td>\n",
       "      <td>0</td>\n",
       "      <td>0</td>\n",
       "      <td>0</td>\n",
       "      <td>0</td>\n",
       "      <td>0</td>\n",
       "      <td>0</td>\n",
       "      <td>0</td>\n",
       "      <td>0</td>\n",
       "      <td>0</td>\n",
       "      <td>...</td>\n",
       "      <td>0</td>\n",
       "      <td>0</td>\n",
       "      <td>0</td>\n",
       "      <td>0</td>\n",
       "      <td>0</td>\n",
       "      <td>0</td>\n",
       "      <td>0</td>\n",
       "      <td>0</td>\n",
       "      <td>0</td>\n",
       "      <td>0</td>\n",
       "    </tr>\n",
       "    <tr>\n",
       "      <th>3</th>\n",
       "      <td>5.010635</td>\n",
       "      <td>0</td>\n",
       "      <td>0</td>\n",
       "      <td>0</td>\n",
       "      <td>0</td>\n",
       "      <td>0</td>\n",
       "      <td>0</td>\n",
       "      <td>0</td>\n",
       "      <td>0</td>\n",
       "      <td>0</td>\n",
       "      <td>...</td>\n",
       "      <td>0</td>\n",
       "      <td>0</td>\n",
       "      <td>0</td>\n",
       "      <td>0</td>\n",
       "      <td>0</td>\n",
       "      <td>0</td>\n",
       "      <td>0</td>\n",
       "      <td>0</td>\n",
       "      <td>0</td>\n",
       "      <td>0</td>\n",
       "    </tr>\n",
       "    <tr>\n",
       "      <th>4</th>\n",
       "      <td>6.652863</td>\n",
       "      <td>0</td>\n",
       "      <td>0</td>\n",
       "      <td>0</td>\n",
       "      <td>0</td>\n",
       "      <td>0</td>\n",
       "      <td>0</td>\n",
       "      <td>0</td>\n",
       "      <td>0</td>\n",
       "      <td>0</td>\n",
       "      <td>...</td>\n",
       "      <td>0</td>\n",
       "      <td>0</td>\n",
       "      <td>0</td>\n",
       "      <td>0</td>\n",
       "      <td>0</td>\n",
       "      <td>0</td>\n",
       "      <td>0</td>\n",
       "      <td>0</td>\n",
       "      <td>1</td>\n",
       "      <td>0</td>\n",
       "    </tr>\n",
       "    <tr>\n",
       "      <th>5</th>\n",
       "      <td>6.802395</td>\n",
       "      <td>0</td>\n",
       "      <td>0</td>\n",
       "      <td>0</td>\n",
       "      <td>0</td>\n",
       "      <td>0</td>\n",
       "      <td>0</td>\n",
       "      <td>0</td>\n",
       "      <td>0</td>\n",
       "      <td>0</td>\n",
       "      <td>...</td>\n",
       "      <td>0</td>\n",
       "      <td>0</td>\n",
       "      <td>0</td>\n",
       "      <td>0</td>\n",
       "      <td>0</td>\n",
       "      <td>0</td>\n",
       "      <td>0</td>\n",
       "      <td>0</td>\n",
       "      <td>0</td>\n",
       "      <td>1</td>\n",
       "    </tr>\n",
       "  </tbody>\n",
       "</table>\n",
       "<p>5 rows × 252 columns</p>\n",
       "</div>"
      ],
      "text/plain": [
       "   log_amount  activity_name_Agriculture  activity_name_Air Conditioning  \\\n",
       "0    5.164786                          0                               0   \n",
       "1    5.991465                          0                               0   \n",
       "3    5.010635                          0                               0   \n",
       "4    6.652863                          0                               0   \n",
       "5    6.802395                          0                               0   \n",
       "\n",
       "   activity_name_Animal Sales  activity_name_Aquaculture  activity_name_Arts  \\\n",
       "0                           0                          0                   0   \n",
       "1                           0                          0                   0   \n",
       "3                           0                          0                   0   \n",
       "4                           0                          0                   0   \n",
       "5                           0                          0                   0   \n",
       "\n",
       "   activity_name_Auto Repair  activity_name_Bakery  \\\n",
       "0                          0                     0   \n",
       "1                          0                     0   \n",
       "3                          0                     0   \n",
       "4                          0                     0   \n",
       "5                          0                     0   \n",
       "\n",
       "   activity_name_Balut-Making  activity_name_Barber Shop  ...  \\\n",
       "0                           0                          0  ...   \n",
       "1                           0                          0  ...   \n",
       "3                           0                          0  ...   \n",
       "4                           0                          0  ...   \n",
       "5                           0                          0  ...   \n",
       "\n",
       "   country_name_Turkey  country_name_Uganda  country_name_Ukraine  \\\n",
       "0                    0                    0                     0   \n",
       "1                    0                    0                     0   \n",
       "3                    0                    0                     0   \n",
       "4                    0                    0                     0   \n",
       "5                    0                    0                     0   \n",
       "\n",
       "   country_name_United States  country_name_Vietnam  country_name_Yemen  \\\n",
       "0                           0                     0                   0   \n",
       "1                           0                     0                   0   \n",
       "3                           0                     0                   0   \n",
       "4                           0                     0                   0   \n",
       "5                           0                     0                   0   \n",
       "\n",
       "   country_name_Zambia  country_name_Zimbabwe  borrower_genders_G  \\\n",
       "0                    0                      0                   0   \n",
       "1                    0                      0                   0   \n",
       "3                    0                      0                   0   \n",
       "4                    0                      0                   1   \n",
       "5                    0                      0                   0   \n",
       "\n",
       "   borrower_genders_M  \n",
       "0                   0  \n",
       "1                   0  \n",
       "3                   0  \n",
       "4                   0  \n",
       "5                   1  \n",
       "\n",
       "[5 rows x 252 columns]"
      ]
     },
     "execution_count": 19,
     "metadata": {},
     "output_type": "execute_result"
    }
   ],
   "source": [
    "X.head()"
   ]
  },
  {
   "cell_type": "markdown",
   "metadata": {},
   "source": [
    "### OLS\n",
    "#### https://www.geeksforgeeks.org/python-decision-tree-regression-using-sklearn/"
   ]
  },
  {
   "cell_type": "code",
   "execution_count": 20,
   "metadata": {},
   "outputs": [],
   "source": [
    "# corr = df_2019.corr()\n",
    "# mask = np.triu(np.ones_like(corr, dtype=bool))\n",
    "# sns.heatmap(df_2019.corr(),\n",
    "#             mask=mask,\n",
    "#             annot=True,\n",
    "#             cmap='coolwarm',\n",
    "#             vmin=-1,\n",
    "#             vmax=1)"
   ]
  },
  {
   "cell_type": "code",
   "execution_count": 21,
   "metadata": {},
   "outputs": [
    {
     "name": "stdout",
     "output_type": "stream",
     "text": [
      "0.16477613442907169\n",
      "0.16386708801359018\n"
     ]
    }
   ],
   "source": [
    "lr = LinearRegression()\n",
    "lr.fit(X_train, y_train)\n",
    "print(lr.score(X_train, y_train))\n",
    "print(lr.score(X_test, y_test))\n"
   ]
  },
  {
   "cell_type": "code",
   "execution_count": 22,
   "metadata": {},
   "outputs": [
    {
     "data": {
      "text/plain": [
       "array([0.1651716 , 0.16723975, 0.16422103, 0.16385954, 0.16147546])"
      ]
     },
     "execution_count": 22,
     "metadata": {},
     "output_type": "execute_result"
    }
   ],
   "source": [
    "cross_val_score(lr, X_train, y_train, cv=5)"
   ]
  },
  {
   "cell_type": "code",
   "execution_count": 23,
   "metadata": {},
   "outputs": [
    {
     "name": "stdout",
     "output_type": "stream",
     "text": [
      "296.599262643254\n"
     ]
    },
    {
     "data": {
      "image/png": "[encoded data removed]",
      "text/plain": [
       "<Figure size 432x288 with 1 Axes>"
      ]
     },
     "metadata": {
      "needs_background": "light"
     },
     "output_type": "display_data"
    }
   ],
   "source": [
    "y_train_preds = lr.predict(X_train)\n",
    "resids = y_train - y_train_preds\n",
    "\n",
    "lr_train_mse = mean_squared_error(np.exp(y_train), np.exp(y_train_preds))\n",
    "lr_train_rmse = np.sqrt(lr_train_mse)\n",
    "\n",
    "plt.hist(resids, bins=50);\n",
    "plt.title('OLS residuals')\n",
    "\n",
    "print(lr_train_rmse)"
   ]
  },
  {
   "cell_type": "code",
   "execution_count": 24,
   "metadata": {},
   "outputs": [
    {
     "name": "stdout",
     "output_type": "stream",
     "text": [
      "297.71996316953954\n"
     ]
    },
    {
     "data": {
      "image/png": "[encoded data removed]",
      "text/plain": [
       "<Figure size 432x288 with 1 Axes>"
      ]
     },
     "metadata": {
      "needs_background": "light"
     },
     "output_type": "display_data"
    }
   ],
   "source": [
    "y_test_preds = lr.predict(X_test)\n",
    "resids = y_test - y_test_preds\n",
    "\n",
    "lr_test_mse = mean_squared_error(np.exp(y_test), np.exp(y_test_preds))\n",
    "lr_test_rmse = np.sqrt(lr_test_mse)\n",
    "\n",
    "plt.hist(resids, bins=50);\n",
    "plt.title('OLS residuals')\n",
    "\n",
    "print(lr_test_rmse)"
   ]
  },
  {
   "cell_type": "code",
   "execution_count": null,
   "metadata": {},
   "outputs": [],
   "source": []
  },
  {
   "cell_type": "code",
   "execution_count": 26,
   "metadata": {},
   "outputs": [
    {
     "data": {
      "text/plain": [
       "-0.3378112146119845"
      ]
     },
     "execution_count": 26,
     "metadata": {},
     "output_type": "execute_result"
    }
   ],
   "source": [
    "lr.intercept_"
   ]
  },
  {
   "cell_type": "code",
   "execution_count": 27,
   "metadata": {},
   "outputs": [
    {
     "name": "stdout",
     "output_type": "stream",
     "text": [
      "[(0.5477887903039876, 'log_amount'), (1.1346215831914626, 'activity_name_Agriculture'), (0.6578456884500423, 'activity_name_Air Conditioning'), (1.1557740943310946, 'activity_name_Animal Sales'), (0.9250748755379266, 'activity_name_Aquaculture'), (0.7751329484072987, 'activity_name_Arts'), (1.0997507131508468, 'activity_name_Auto Repair'), (0.8687223432236894, 'activity_name_Bakery'), (0.933288403553762, 'activity_name_Balut-Making'), (1.1412118111759801, 'activity_name_Barber Shop'), (1.274643187211024, 'activity_name_Beauty Salon'), (0.28258663442787124, 'activity_name_Beekeeping'), (1.2726462408965413, 'activity_name_Beverages'), (0.34918762804210784, 'activity_name_Bicycle Repair'), (0.029589789700612188, 'activity_name_Bicycle Sales'), (0.44632951825912515, 'activity_name_Blacksmith'), (0.16470474783935501, 'activity_name_Bookbinding'), (0.7904573789264763, 'activity_name_Bookstore'), (0.8323344273080658, 'activity_name_Bricks'), (1.1357582630674354, 'activity_name_Butcher Shop'), (1.0120700290147764, 'activity_name_Cafe'), (0.8193174823810934, 'activity_name_Call Center'), (0.6600582866288675, 'activity_name_Carpentry'), (1.0621589831416802, 'activity_name_Catering'), (1.2087647357999667, 'activity_name_Cattle'), (0.4054335262716223, 'activity_name_Celebrations'), (0.7981515039690869, 'activity_name_Cement'), (1.3457890752644823, 'activity_name_Cereals'), (1.2471547088169903, 'activity_name_Charcoal Sales'), (0.8469601975617072, 'activity_name_Cheese Making'), (0.8229676318190441, 'activity_name_Child Care'), (1.240961759300784, 'activity_name_Cleaning Services'), (1.1814905034681633, 'activity_name_Cloth & Dressmaking Supplies'), (1.5608082721167373, 'activity_name_Clothing'), (1.2961729001271138, 'activity_name_Clothing Sales'), (0.8133221048052278, 'activity_name_Cobbler'), (1.090696545192201, 'activity_name_Communications'), (1.2323746353779708, 'activity_name_Computer'), (0.8650694745170814, 'activity_name_Computers'), (1.0867912625569611, 'activity_name_Construction'), (1.1771866249151541, 'activity_name_Construction Supplies'), (1.5348542387972108, 'activity_name_Consumer Goods'), (1.4743532768700158, 'activity_name_Cosmetics Sales'), (0.7134364582121486, 'activity_name_Crafts'), (0.9157982496759809, 'activity_name_Dairy'), (1.2138974804851543, 'activity_name_Decorations Sales'), (0.9581611528088564, 'activity_name_Dental'), (0.06802124408012596, 'activity_name_Education provider'), (1.196266998928847, 'activity_name_Electrical Goods'), (1.096147700859289, 'activity_name_Electrician'), (0.9125435960065287, 'activity_name_Electronics Repair'), (1.2099930617186379, 'activity_name_Electronics Sales'), (0.7266455883434942, 'activity_name_Embroidery'), (2.1265604387756776, 'activity_name_Energy'), (0.7989659741082586, 'activity_name_Entertainment'), (1.1088714411934697, 'activity_name_Event Planning'), (1.226962149624188, 'activity_name_Farm Supplies'), (1.222739379337849, 'activity_name_Farming'), (0.24036167768828218, 'activity_name_Film'), (1.2187625525787282, 'activity_name_Fish Selling'), (1.1841072913791835, 'activity_name_Fishing'), (1.1088493606365908, 'activity_name_Florist'), (0.9937380914608878, 'activity_name_Flowers'), (1.28547313945849, 'activity_name_Food'), (1.0365851939146562, 'activity_name_Food Market'), (1.1745051167652345, 'activity_name_Food Production/Sales'), (1.2037100644804912, 'activity_name_Food Stall'), (1.1197826203140375, 'activity_name_Fruits & Vegetables'), (1.2780348645914474, 'activity_name_Fuel/Firewood'), (1.4340763043677327, 'activity_name_Funerals'), (0.5567719195481057, 'activity_name_Furniture Making'), (0.7361531619713331, 'activity_name_Games'), (1.3340330625545487, 'activity_name_General Store'), (0.6879111088013278, 'activity_name_Goods Distribution'), (1.3020946719076745, 'activity_name_Grocery Store'), (1.1005406883846323, 'activity_name_Hardware'), (0.9250065271340934, 'activity_name_Health'), (0.7704873084744205, 'activity_name_Higher education costs'), (1.3924658635852478, 'activity_name_Home Appliances'), (1.077185025330296, 'activity_name_Home Energy'), (1.2848121667964127, 'activity_name_Home Products Sales'), (1.135531791995087, 'activity_name_Hotel'), (0.87297882943294, 'activity_name_Internet Cafe'), (1.3214647230242549, 'activity_name_Jewelry'), (0.668443306774701, 'activity_name_Knitting'), (1.1360519039038706, 'activity_name_Land Rental'), (0.991910215199815, 'activity_name_Landscaping / Gardening'), (0.8710101688095059, 'activity_name_Laundry'), (1.2694212914009022, 'activity_name_Liquor Store / Off-License'), (1.0856348983216892, 'activity_name_Livestock'), (0.4713180906605688, 'activity_name_Machine Shop'), (0.9906139270189573, 'activity_name_Machinery Rental'), (0.596452209795035, 'activity_name_Manufacturing'), (0.3373115288204204, 'activity_name_Medical Clinic'), (0.49208082081876026, 'activity_name_Metal Shop'), (0.9759490748845508, 'activity_name_Milk Sales'), (1.33037356041171, 'activity_name_Mobile Phones'), (1.6255325134287162, 'activity_name_Mobile Transactions'), (1.0680548077710805, 'activity_name_Motorcycle Repair'), (1.204222658882682, 'activity_name_Motorcycle Transport'), (1.2122111633289414, 'activity_name_Movie Tapes & DVDs'), (1.1971661732619383, 'activity_name_Music Discs & Tapes'), (0.3789672434894778, 'activity_name_Musical Instruments'), (0.6078547881243985, 'activity_name_Musical Performance'), (0.6766384733157973, 'activity_name_Natural Medicines'), (1.110035864965747, 'activity_name_Office Supplies'), (1.038597920478834, 'activity_name_Paper Sales'), (1.3096446855428725, 'activity_name_Party Supplies'), (0.751327955308223, 'activity_name_Patchwork'), (1.3698912538717642, 'activity_name_Perfumes'), (0.4530464350520584, 'activity_name_Personal Care Products'), (1.6767008136631976, 'activity_name_Personal Expenses'), (1.6933911676157822, 'activity_name_Personal Housing Expenses'), (1.2695498177362676, 'activity_name_Personal Medical Expenses'), (1.3694988144604232, 'activity_name_Personal Products Sales'), (0.373105874370928, 'activity_name_Pharmacy'), (1.226048316833606, 'activity_name_Phone Accessories'), (1.0978100878224972, 'activity_name_Phone Repair'), (1.6836303766570149, 'activity_name_Phone Use Sales'), (0.8772368955520254, 'activity_name_Photography'), (1.2141651929907369, 'activity_name_Pigs'), (1.353761261033595, 'activity_name_Plastics Sales'), (0.976425093065446, 'activity_name_Poultry'), (0.7391305875274933, 'activity_name_Primary/secondary school costs'), (0.9535756799658724, 'activity_name_Printing'), (1.2906948670981826, 'activity_name_Property'), (1.2599974390488515, 'activity_name_Pub'), (0.6231358793730352, 'activity_name_Quarrying'), (1.1441269437682215, 'activity_name_Recycled Materials'), (0.6601828100345288, 'activity_name_Recycling'), (0.9508164698021984, 'activity_name_Religious Articles'), (1.1135455550228546, 'activity_name_Renewable Energy Products'), (1.038838741644735, 'activity_name_Restaurant'), (1.279721824011609, 'activity_name_Retail'), (1.3300843262753208, 'activity_name_Rickshaw'), (0.9494685431373604, 'activity_name_Secretarial Services'), (1.3735102123602847, 'activity_name_Services'), (0.9997045342771664, 'activity_name_Sewing'), (1.253471749009317, 'activity_name_Shoe Sales'), (1.122659931625756, 'activity_name_Souvenir Sales'), (1.1730309531672376, 'activity_name_Spare Parts'), (0.914397980188946, 'activity_name_Sporting Good Sales'), (1.0804388183748161, 'activity_name_Tailoring'), (1.3175318892879069, 'activity_name_Taxi'), (0.9730114713353398, 'activity_name_Technology'), (0.6858002282293716, 'activity_name_Textiles'), (0.8477796135926485, 'activity_name_Timber Sales'), (1.061825124448342, 'activity_name_Tourism'), (1.1382498289391476, 'activity_name_Transportation'), (1.180504048196965, 'activity_name_Traveling Sales'), (0.8500920406374496, 'activity_name_Upholstery'), (1.1854077527858415, 'activity_name_Used Clothing'), (1.246095369590159, 'activity_name_Used Shoes'), (0.9896507011364863, 'activity_name_Utilities'), (1.5470149537453441, 'activity_name_Vehicle'), (1.0088377469389853, 'activity_name_Vehicle Repairs'), (0.975052632408794, 'activity_name_Veterinary Sales'), (0.6647208961518705, 'activity_name_Waste Management'), (0.7133437513408148, 'activity_name_Water Distribution'), (0.7290399952306333, 'activity_name_Weaving'), (1.806058348799718, 'activity_name_Wedding Expenses'), (0.4946278029038616, 'activity_name_Well digging'), (0.9532373466478105, 'activity_name_Wholesale'), (0.655157099215197, 'country_name_Albania'), (1.0124144308880632, 'country_name_Armenia'), (1.0856354477001846, 'country_name_Azerbaijan'), (-0.916281157874096, 'country_name_Belize'), (0.3314018830387411, 'country_name_Benin'), (0.7059682428855281, 'country_name_Bolivia'), (-0.525474877662069, 'country_name_Bosnia and Herzegovina'), (0.11695258133102375, 'country_name_Brazil'), (0.2419538252386319, 'country_name_Bulgaria'), (0.5334397975948428, 'country_name_Burkina Faso'), (-0.7808746493501383, 'country_name_Burundi'), (0.5682889245792764, 'country_name_Cambodia'), (0.7864936269192935, 'country_name_Cameroon'), (-0.2632457169699179, 'country_name_Chile'), (-0.37340351987956905, 'country_name_China'), (1.4448168691257524, 'country_name_Colombia'), (-0.47477169523662704, 'country_name_Congo'), (0.6556647402122552, 'country_name_Costa Rica'), (-0.6251184285646423, \"country_name_Cote D'Ivoire\"), (0.017436970366606096, 'country_name_Dominican Republic'), (0.6020469741973861, 'country_name_Ecuador'), (0.940722787377507, 'country_name_Egypt'), (1.25459777378728, 'country_name_El Salvador'), (1.098040782550435, 'country_name_Fiji'), (0.5884519606323769, 'country_name_Georgia'), (0.22327674583619755, 'country_name_Ghana'), (0.7617063865623582, 'country_name_Guatemala'), (1.0427654366215253, 'country_name_Haiti'), (0.9895639279827588, 'country_name_Honduras'), (0.9861230309362548, 'country_name_India'), (0.3334649053599811, 'country_name_Indonesia'), (-0.11029852545145243, 'country_name_Iraq'), (6.8833827526759706e-15, 'country_name_Israel'), (1.0271590406691764, 'country_name_Jordan'), (1.1993208813624188, 'country_name_Kenya'), (0.7958809730670954, 'country_name_Kosovo'), (1.0603112202307712, 'country_name_Kyrgyzstan'), (0.2743249939049941, \"country_name_Lao People's Democratic Republic\"), (0.7258393878609192, 'country_name_Lebanon'), (0.011421739626522862, 'country_name_Lesotho'), (0.5275076009440214, 'country_name_Liberia'), (1.1894982986974347, 'country_name_Madagascar'), (0.24205727227586565, 'country_name_Malawi'), (0.7796549367563103, 'country_name_Mali'), (0.4987530975526181, 'country_name_Mexico'), (0.052405438407390786, 'country_name_Moldova'), (-0.31855705075223434, 'country_name_Mongolia'), (0.8303688176949269, 'country_name_Mozambique'), (1.0105815973717815, 'country_name_Myanmar (Burma)'), (-2.1084429731319054, 'country_name_Namibia'), (-0.147220884496767, 'country_name_Nepal'), (0.84587487114131, 'country_name_Nicaragua'), (0.7336314859346347, 'country_name_Nigeria'), (1.5064355193872656, 'country_name_Pakistan'), (0.49255686563129764, 'country_name_Palestine'), (0.2187551992138613, 'country_name_Panama'), (-0.8590034014419687, 'country_name_Papua New Guinea'), (0.7742790537042227, 'country_name_Paraguay'), (0.5939478824872844, 'country_name_Peru'), (0.7776670882314125, 'country_name_Philippines'), (2.133820987640711, 'country_name_Puerto Rico'), (0.19320870067197402, 'country_name_Rwanda'), (-0.3617656154945389, 'country_name_Saint Vincent and the Grenadines'), (1.131048132605762, 'country_name_Samoa'), (0.25471095753556694, 'country_name_Senegal'), (0.8123093965979219, 'country_name_Sierra Leone'), (1.0143096941672176, 'country_name_Solomon Islands'), (0.7221012214436658, 'country_name_Somalia'), (-0.03828059886339214, 'country_name_South Africa'), (-0.04680235157023582, 'country_name_South Sudan'), (-0.49835741028671676, 'country_name_Sri Lanka'), (0.3667845649119765, 'country_name_Suriname'), (1.0862189191211131, 'country_name_Tajikistan'), (0.6060779094556549, 'country_name_Tanzania'), (-0.25401717695041415, 'country_name_Thailand'), (1.0842950149691264, 'country_name_The Democratic Republic of the Congo'), (0.7106278485052154, 'country_name_Timor-Leste'), (0.8128389519734915, 'country_name_Togo'), (0.5964536394832408, 'country_name_Tonga'), (0.4420436386809697, 'country_name_Turkey'), (0.781994120452941, 'country_name_Uganda'), (-0.20419309324122528, 'country_name_Ukraine'), (1.7571509379688035, 'country_name_United States'), (0.5087483427920821, 'country_name_Vietnam'), (0.7914009448769556, 'country_name_Yemen'), (0.17129699816964739, 'country_name_Zambia'), (0.9245579069837464, 'country_name_Zimbabwe'), (0.03845149928430014, 'borrower_genders_G'), (0.3321544361157165, 'borrower_genders_M')]\n"
     ]
    }
   ],
   "source": [
    "print(list(zip(lr.coef_, features)))"
   ]
  },
  {
   "cell_type": "code",
   "execution_count": null,
   "metadata": {},
   "outputs": [],
   "source": []
  }
 ],
 "metadata": {
  "kernelspec": {
   "display_name": "Python 3",
   "language": "python",
   "name": "python3"
  },
  "language_info": {
   "codemirror_mode": {
    "name": "ipython",
    "version": 3
   },
   "file_extension": ".py",
   "mimetype": "text/x-python",
   "name": "python",
   "nbconvert_exporter": "python",
   "pygments_lexer": "ipython3",
   "version": "3.8.3"
  }
 },
 "nbformat": 4,
 "nbformat_minor": 4
}
