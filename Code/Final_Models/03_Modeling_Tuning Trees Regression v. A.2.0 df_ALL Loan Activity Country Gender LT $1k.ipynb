{
 "cells": [
  {
   "cell_type": "markdown",
   "metadata": {},
   "source": [
    "### Group Project - Tree models: Decision tree, Bagging decision"
   ]
  },
  {
   "cell_type": "code",
   "execution_count": 3,
   "metadata": {},
   "outputs": [
    {
     "name": "stdout",
     "output_type": "stream",
     "text": [
      "finished importing modules\n"
     ]
    }
   ],
   "source": [
    "# Data cleaning and EDA modules\n",
    "\n",
    "import pandas as pd\n",
    "import numpy as np\n",
    "\n",
    "import seaborn as sns\n",
    "import matplotlib.pyplot as plt\n",
    "from sklearn import tree\n",
    "# from sklearn.tree import export_graphviz  \n",
    "\n",
    "\n",
    "# Estimation model modules\n",
    "\n",
    "from sklearn.tree import DecisionTreeRegressor\n",
    "from sklearn.ensemble import BaggingRegressor\n",
    "from sklearn.ensemble import RandomForestRegressor\n",
    "from sklearn.ensemble import AdaBoostRegressor\n",
    "from sklearn.svm import  SVR                            # support vector machine\n",
    "\n",
    "\n",
    "# Model validation modules\n",
    "\n",
    "from sklearn.model_selection import train_test_split\n",
    "\n",
    "\n",
    "# model metrics modules\n",
    "\n",
    "from sklearn.metrics import mean_squared_error \n",
    "from sklearn.metrics import mean_squared_error \n",
    "\n",
    "#Pipeline and grid search modules\n",
    "\n",
    "from sklearn.model_selection import GridSearchCV\n",
    "\n",
    "\n",
    "print('finished importing modules')"
   ]
  },
  {
   "cell_type": "code",
   "execution_count": null,
   "metadata": {},
   "outputs": [],
   "source": []
  },
  {
   "cell_type": "code",
   "execution_count": 4,
   "metadata": {},
   "outputs": [],
   "source": [
    "df = pd.read_csv('../../timmy-data/loans_cleaned.csv')"
   ]
  },
  {
   "cell_type": "code",
   "execution_count": null,
   "metadata": {},
   "outputs": [],
   "source": []
  },
  {
   "cell_type": "code",
   "execution_count": 5,
   "metadata": {},
   "outputs": [
    {
     "data": {
      "text/html": [
       "<div>\n",
       "<style scoped>\n",
       "    .dataframe tbody tr th:only-of-type {\n",
       "        vertical-align: middle;\n",
       "    }\n",
       "\n",
       "    .dataframe tbody tr th {\n",
       "        vertical-align: top;\n",
       "    }\n",
       "\n",
       "    .dataframe thead th {\n",
       "        text-align: right;\n",
       "    }\n",
       "</style>\n",
       "<table border=\"1\" class=\"dataframe\">\n",
       "  <thead>\n",
       "    <tr style=\"text-align: right;\">\n",
       "      <th></th>\n",
       "      <th>loan_id</th>\n",
       "      <th>status</th>\n",
       "      <th>posted_time</th>\n",
       "      <th>raised_time</th>\n",
       "      <th>loan_amount</th>\n",
       "      <th>activity_name</th>\n",
       "      <th>sector_name</th>\n",
       "      <th>country_name</th>\n",
       "      <th>lender_term</th>\n",
       "      <th>repayment_interval</th>\n",
       "      <th>borrower_genders</th>\n",
       "      <th>time_to_fund</th>\n",
       "      <th>hours_to_fund</th>\n",
       "      <th>loan_year</th>\n",
       "      <th>day_posted</th>\n",
       "      <th>image_incl</th>\n",
       "      <th>video_incl</th>\n",
       "    </tr>\n",
       "  </thead>\n",
       "  <tbody>\n",
       "    <tr>\n",
       "      <th>0</th>\n",
       "      <td>1344750</td>\n",
       "      <td>funded</td>\n",
       "      <td>2017-07-22 02:01:05+00:00</td>\n",
       "      <td>2017-08-02 04:07:12+00:00</td>\n",
       "      <td>200.0</td>\n",
       "      <td>Pigs</td>\n",
       "      <td>Agriculture</td>\n",
       "      <td>Philippines</td>\n",
       "      <td>14.0</td>\n",
       "      <td>monthly</td>\n",
       "      <td>F</td>\n",
       "      <td>11 days 02:06:07</td>\n",
       "      <td>267</td>\n",
       "      <td>2017</td>\n",
       "      <td>Saturday</td>\n",
       "      <td>1</td>\n",
       "      <td>0</td>\n",
       "    </tr>\n",
       "    <tr>\n",
       "      <th>1</th>\n",
       "      <td>263082</td>\n",
       "      <td>funded</td>\n",
       "      <td>2011-01-05 02:43:16+00:00</td>\n",
       "      <td>2011-01-06 19:55:59+00:00</td>\n",
       "      <td>900.0</td>\n",
       "      <td>Food Production/Sales</td>\n",
       "      <td>Food</td>\n",
       "      <td>El Salvador</td>\n",
       "      <td>26.0</td>\n",
       "      <td>monthly</td>\n",
       "      <td>G</td>\n",
       "      <td>1 days 17:12:43</td>\n",
       "      <td>42</td>\n",
       "      <td>2011</td>\n",
       "      <td>Wednesday</td>\n",
       "      <td>0</td>\n",
       "      <td>0</td>\n",
       "    </tr>\n",
       "    <tr>\n",
       "      <th>2</th>\n",
       "      <td>242359</td>\n",
       "      <td>funded</td>\n",
       "      <td>2010-10-25 09:14:01+00:00</td>\n",
       "      <td>2010-10-27 02:01:55+00:00</td>\n",
       "      <td>475.0</td>\n",
       "      <td>General Store</td>\n",
       "      <td>Retail</td>\n",
       "      <td>Philippines</td>\n",
       "      <td>8.0</td>\n",
       "      <td>monthly</td>\n",
       "      <td>F</td>\n",
       "      <td>1 days 16:47:54</td>\n",
       "      <td>41</td>\n",
       "      <td>2010</td>\n",
       "      <td>Monday</td>\n",
       "      <td>1</td>\n",
       "      <td>0</td>\n",
       "    </tr>\n",
       "    <tr>\n",
       "      <th>3</th>\n",
       "      <td>1818722</td>\n",
       "      <td>funded</td>\n",
       "      <td>2019-08-19 06:33:01+00:00</td>\n",
       "      <td>2019-08-21 14:50:42+00:00</td>\n",
       "      <td>350.0</td>\n",
       "      <td>Food Production/Sales</td>\n",
       "      <td>Food</td>\n",
       "      <td>Philippines</td>\n",
       "      <td>8.0</td>\n",
       "      <td>monthly</td>\n",
       "      <td>F</td>\n",
       "      <td>2 days 08:17:41</td>\n",
       "      <td>57</td>\n",
       "      <td>2019</td>\n",
       "      <td>Monday</td>\n",
       "      <td>1</td>\n",
       "      <td>0</td>\n",
       "    </tr>\n",
       "    <tr>\n",
       "      <th>4</th>\n",
       "      <td>1413547</td>\n",
       "      <td>funded</td>\n",
       "      <td>2017-11-10 16:08:54+00:00</td>\n",
       "      <td>2017-11-12 20:15:33+00:00</td>\n",
       "      <td>325.0</td>\n",
       "      <td>Food Market</td>\n",
       "      <td>Food</td>\n",
       "      <td>Liberia</td>\n",
       "      <td>6.0</td>\n",
       "      <td>monthly</td>\n",
       "      <td>F</td>\n",
       "      <td>2 days 04:06:39</td>\n",
       "      <td>53</td>\n",
       "      <td>2017</td>\n",
       "      <td>Friday</td>\n",
       "      <td>1</td>\n",
       "      <td>0</td>\n",
       "    </tr>\n",
       "  </tbody>\n",
       "</table>\n",
       "</div>"
      ],
      "text/plain": [
       "   loan_id  status                posted_time                raised_time  \\\n",
       "0  1344750  funded  2017-07-22 02:01:05+00:00  2017-08-02 04:07:12+00:00   \n",
       "1   263082  funded  2011-01-05 02:43:16+00:00  2011-01-06 19:55:59+00:00   \n",
       "2   242359  funded  2010-10-25 09:14:01+00:00  2010-10-27 02:01:55+00:00   \n",
       "3  1818722  funded  2019-08-19 06:33:01+00:00  2019-08-21 14:50:42+00:00   \n",
       "4  1413547  funded  2017-11-10 16:08:54+00:00  2017-11-12 20:15:33+00:00   \n",
       "\n",
       "   loan_amount          activity_name  sector_name country_name  lender_term  \\\n",
       "0        200.0                   Pigs  Agriculture  Philippines         14.0   \n",
       "1        900.0  Food Production/Sales         Food  El Salvador         26.0   \n",
       "2        475.0          General Store       Retail  Philippines          8.0   \n",
       "3        350.0  Food Production/Sales         Food  Philippines          8.0   \n",
       "4        325.0            Food Market         Food      Liberia          6.0   \n",
       "\n",
       "  repayment_interval borrower_genders      time_to_fund  hours_to_fund  \\\n",
       "0            monthly                F  11 days 02:06:07            267   \n",
       "1            monthly                G   1 days 17:12:43             42   \n",
       "2            monthly                F   1 days 16:47:54             41   \n",
       "3            monthly                F   2 days 08:17:41             57   \n",
       "4            monthly                F   2 days 04:06:39             53   \n",
       "\n",
       "   loan_year day_posted  image_incl  video_incl  \n",
       "0       2017   Saturday           1           0  \n",
       "1       2011  Wednesday           0           0  \n",
       "2       2010     Monday           1           0  \n",
       "3       2019     Monday           1           0  \n",
       "4       2017     Friday           1           0  "
      ]
     },
     "execution_count": 5,
     "metadata": {},
     "output_type": "execute_result"
    }
   ],
   "source": [
    "df.head(5)"
   ]
  },
  {
   "cell_type": "code",
   "execution_count": null,
   "metadata": {},
   "outputs": [],
   "source": []
  },
  {
   "cell_type": "code",
   "execution_count": 6,
   "metadata": {},
   "outputs": [
    {
     "data": {
      "text/plain": [
       "loan_id               0\n",
       "status                0\n",
       "posted_time           0\n",
       "raised_time           0\n",
       "loan_amount           0\n",
       "activity_name         0\n",
       "sector_name           0\n",
       "country_name          0\n",
       "lender_term           0\n",
       "repayment_interval    0\n",
       "borrower_genders      0\n",
       "time_to_fund          0\n",
       "hours_to_fund         0\n",
       "loan_year             0\n",
       "day_posted            0\n",
       "image_incl            0\n",
       "video_incl            0\n",
       "dtype: int64"
      ]
     },
     "execution_count": 6,
     "metadata": {},
     "output_type": "execute_result"
    }
   ],
   "source": [
    "df.isnull().sum()"
   ]
  },
  {
   "cell_type": "code",
   "execution_count": null,
   "metadata": {},
   "outputs": [],
   "source": []
  },
  {
   "cell_type": "markdown",
   "metadata": {},
   "source": [
    "### Log transform loan amount and hours to fund"
   ]
  },
  {
   "cell_type": "code",
   "execution_count": 7,
   "metadata": {},
   "outputs": [
    {
     "data": {
      "text/plain": [
       "loan_id               0\n",
       "status                0\n",
       "posted_time           0\n",
       "raised_time           0\n",
       "loan_amount           0\n",
       "activity_name         0\n",
       "sector_name           0\n",
       "country_name          0\n",
       "lender_term           0\n",
       "repayment_interval    0\n",
       "borrower_genders      0\n",
       "time_to_fund          0\n",
       "hours_to_fund         0\n",
       "loan_year             0\n",
       "day_posted            0\n",
       "image_incl            0\n",
       "video_incl            0\n",
       "log_amount            0\n",
       "log_htf               0\n",
       "dtype: int64"
      ]
     },
     "execution_count": 7,
     "metadata": {},
     "output_type": "execute_result"
    }
   ],
   "source": [
    "df['log_amount'] = np.log(df['loan_amount'])\n",
    "df['log_htf'] = np.log(df['hours_to_fund'])\n",
    "df.isnull().sum()"
   ]
  },
  {
   "cell_type": "markdown",
   "metadata": {},
   "source": [
    "### Dummify categorical variables - activity, country, and gender"
   ]
  },
  {
   "cell_type": "code",
   "execution_count": 8,
   "metadata": {},
   "outputs": [],
   "source": [
    "df = pd.get_dummies(columns=[\"activity_name\"], drop_first=True, data=df)\n",
    "df = pd.get_dummies(columns=[\"country_name\"], drop_first=True, data=df)\n",
    "df = pd.get_dummies(columns=['borrower_genders'], drop_first=True, data=df)"
   ]
  },
  {
   "cell_type": "code",
   "execution_count": 9,
   "metadata": {},
   "outputs": [],
   "source": [
    "df_1=df.drop(columns=['image_incl', 'video_incl', 'sector_name', 'loan_id', 'status', 'day_posted',\n",
    "                      'posted_time', 'raised_time', 'image_incl', 'video_incl', 'lender_term', 'repayment_interval']).copy()"
   ]
  },
  {
   "cell_type": "code",
   "execution_count": 10,
   "metadata": {},
   "outputs": [
    {
     "data": {
      "text/plain": [
       "Index(['loan_amount', 'time_to_fund', 'hours_to_fund', 'loan_year',\n",
       "       'log_amount', 'log_htf', 'activity_name_Agriculture',\n",
       "       'activity_name_Air Conditioning', 'activity_name_Animal Sales',\n",
       "       'activity_name_Aquaculture',\n",
       "       ...\n",
       "       'country_name_Turkey', 'country_name_Uganda', 'country_name_Ukraine',\n",
       "       'country_name_United States', 'country_name_Vietnam',\n",
       "       'country_name_Yemen', 'country_name_Zambia', 'country_name_Zimbabwe',\n",
       "       'borrower_genders_G', 'borrower_genders_M'],\n",
       "      dtype='object', length=257)"
      ]
     },
     "execution_count": 10,
     "metadata": {},
     "output_type": "execute_result"
    }
   ],
   "source": [
    "df_1.shape\n",
    "features=df_1.columns\n",
    "features"
   ]
  },
  {
   "cell_type": "markdown",
   "metadata": {},
   "source": [
    "### Produce files comprising yearly data files and all loan transactions based on loan amount threshhold"
   ]
  },
  {
   "cell_type": "markdown",
   "metadata": {},
   "source": [
    "### Identify loan threshhold"
   ]
  },
  {
   "cell_type": "code",
   "execution_count": 11,
   "metadata": {},
   "outputs": [],
   "source": [
    "loan_threshhold=1000"
   ]
  },
  {
   "cell_type": "code",
   "execution_count": 12,
   "metadata": {},
   "outputs": [],
   "source": [
    "df_2015=df[df_1.loan_year==2015]\n",
    "df_2016=df[df_1.loan_year==2016]\n",
    "df_2017=df[df_1.loan_year==2017]\n",
    "df_2018=df[df_1.loan_year==2018]\n",
    "df_2019=df_1[(df_1.loan_year>=2019) & (df_1.loan_amount<=loan_threshhold)]\n",
    "df_all=df_1[df_1.loan_amount<=loan_threshhold]"
   ]
  },
  {
   "cell_type": "code",
   "execution_count": 13,
   "metadata": {},
   "outputs": [
    {
     "data": {
      "image/png": "[encoded data removed]",
      "text/plain": [
       "<Figure size 432x288 with 1 Axes>"
      ]
     },
     "metadata": {
      "needs_background": "light"
     },
     "output_type": "display_data"
    }
   ],
   "source": [
    "bin_count = 1, 10, 100,1000,10000,100000\n",
    "\n",
    "\n",
    "# plt.hist(df['loan_amount'], bins=50);\n",
    "plt.hist(df_2015['loan_amount'], bins=bin_count);\n",
    "plt.hist(df_2016['loan_amount'], bins=bin_count);\n",
    "plt.hist(df_2017['loan_amount'], bins=bin_count);\n",
    "plt.hist(df_2018['loan_amount'], bins=bin_count);\n",
    "plt.hist(df_2019['loan_amount'], bins=bin_count);"
   ]
  },
  {
   "cell_type": "code",
   "execution_count": 14,
   "metadata": {},
   "outputs": [
    {
     "data": {
      "image/png": "[encoded data removed]",
      "text/plain": [
       "<Figure size 432x288 with 1 Axes>"
      ]
     },
     "metadata": {
      "needs_background": "light"
     },
     "output_type": "display_data"
    }
   ],
   "source": [
    "bin_count = 20\n",
    "\n",
    "\n",
    "# plt.hist(df['loan_amount'], bins=50);\n",
    "# plt.hist(df_1['log_amount'], bins=bin_count);\n",
    "plt.hist(df_2015['log_amount'], bins=bin_count);\n",
    "plt.hist(df_2016['log_amount'], bins=bin_count);\n",
    "plt.hist(df_2017['log_amount'], bins=bin_count);\n",
    "plt.hist(df_2018['log_amount'], bins=bin_count);\n",
    "plt.hist(df_2019['log_amount'], bins=bin_count);"
   ]
  },
  {
   "cell_type": "code",
   "execution_count": 15,
   "metadata": {},
   "outputs": [
    {
     "data": {
      "image/png": "[encoded data removed]",
      "text/plain": [
       "<Figure size 432x288 with 1 Axes>"
      ]
     },
     "metadata": {
      "needs_background": "light"
     },
     "output_type": "display_data"
    }
   ],
   "source": [
    "bin_count = 50\n",
    "\n",
    "plt.hist(df_2015['hours_to_fund'], bins=bin_count);\n",
    "plt.hist(df_2016['hours_to_fund'], bins=bin_count);\n",
    "plt.hist(df_2017['hours_to_fund'], bins=bin_count);\n",
    "plt.hist(df_2018['hours_to_fund'], bins=bin_count);\n",
    "plt.hist(df_2019['hours_to_fund'], bins=bin_count);\n"
   ]
  },
  {
   "cell_type": "code",
   "execution_count": 16,
   "metadata": {},
   "outputs": [
    {
     "data": {
      "image/png": "[encoded data removed]",
      "text/plain": [
       "<Figure size 432x288 with 1 Axes>"
      ]
     },
     "metadata": {
      "needs_background": "light"
     },
     "output_type": "display_data"
    }
   ],
   "source": [
    "bin_count = 50\n",
    "\n",
    "\n",
    "plt.hist(df_2015['log_htf'], bins=bin_count);\n",
    "plt.hist(df_2016['log_htf'], bins=bin_count);\n",
    "plt.hist(df_2017['log_htf'], bins=bin_count);\n",
    "plt.hist(df_2018['log_htf'], bins=bin_count);\n",
    "plt.hist(df_2019['log_htf'], bins=bin_count);"
   ]
  },
  {
   "cell_type": "code",
   "execution_count": 17,
   "metadata": {},
   "outputs": [
    {
     "data": {
      "text/plain": [
       "Index(['loan_amount', 'log_amount', 'activity_name_Agriculture',\n",
       "       'activity_name_Air Conditioning', 'activity_name_Animal Sales',\n",
       "       'activity_name_Aquaculture', 'activity_name_Arts',\n",
       "       'activity_name_Auto Repair', 'activity_name_Bakery',\n",
       "       'activity_name_Balut-Making',\n",
       "       ...\n",
       "       'country_name_Turkey', 'country_name_Uganda', 'country_name_Ukraine',\n",
       "       'country_name_United States', 'country_name_Vietnam',\n",
       "       'country_name_Yemen', 'country_name_Zambia', 'country_name_Zimbabwe',\n",
       "       'borrower_genders_G', 'borrower_genders_M'],\n",
       "      dtype='object', length=253)"
      ]
     },
     "execution_count": 17,
     "metadata": {},
     "output_type": "execute_result"
    }
   ],
   "source": [
    "df_2=df_1.drop(columns=['time_to_fund', 'log_htf', 'hours_to_fund', 'loan_year',]).copy()\n",
    "features = df_2.columns \n",
    "features"
   ]
  },
  {
   "cell_type": "code",
   "execution_count": 18,
   "metadata": {},
   "outputs": [],
   "source": [
    "feature_cypher=df_2.isnull().sum()\n",
    "\n",
    "feature_cypher.to_excel(\"feature_cypher.xlsx\") \n",
    "# print(feature_cypher)"
   ]
  },
  {
   "cell_type": "markdown",
   "metadata": {},
   "source": [
    "### Identify time period"
   ]
  },
  {
   "cell_type": "code",
   "execution_count": 19,
   "metadata": {},
   "outputs": [],
   "source": [
    "df=df_all"
   ]
  },
  {
   "cell_type": "code",
   "execution_count": 20,
   "metadata": {},
   "outputs": [],
   "source": [
    "X = df[features]\n",
    "y = df['log_htf']\n",
    "\n",
    "X_train, X_test, y_train, y_test = train_test_split(X, y, random_state=42)"
   ]
  },
  {
   "cell_type": "code",
   "execution_count": 22,
   "metadata": {},
   "outputs": [
    {
     "data": {
      "text/html": [
       "<div>\n",
       "<style scoped>\n",
       "    .dataframe tbody tr th:only-of-type {\n",
       "        vertical-align: middle;\n",
       "    }\n",
       "\n",
       "    .dataframe tbody tr th {\n",
       "        vertical-align: top;\n",
       "    }\n",
       "\n",
       "    .dataframe thead th {\n",
       "        text-align: right;\n",
       "    }\n",
       "</style>\n",
       "<table border=\"1\" class=\"dataframe\">\n",
       "  <thead>\n",
       "    <tr style=\"text-align: right;\">\n",
       "      <th></th>\n",
       "      <th>loan_amount</th>\n",
       "      <th>log_amount</th>\n",
       "      <th>activity_name_Agriculture</th>\n",
       "      <th>activity_name_Air Conditioning</th>\n",
       "      <th>activity_name_Animal Sales</th>\n",
       "      <th>activity_name_Aquaculture</th>\n",
       "      <th>activity_name_Arts</th>\n",
       "      <th>activity_name_Auto Repair</th>\n",
       "      <th>activity_name_Bakery</th>\n",
       "      <th>activity_name_Balut-Making</th>\n",
       "      <th>...</th>\n",
       "      <th>country_name_Turkey</th>\n",
       "      <th>country_name_Uganda</th>\n",
       "      <th>country_name_Ukraine</th>\n",
       "      <th>country_name_United States</th>\n",
       "      <th>country_name_Vietnam</th>\n",
       "      <th>country_name_Yemen</th>\n",
       "      <th>country_name_Zambia</th>\n",
       "      <th>country_name_Zimbabwe</th>\n",
       "      <th>borrower_genders_G</th>\n",
       "      <th>borrower_genders_M</th>\n",
       "    </tr>\n",
       "  </thead>\n",
       "  <tbody>\n",
       "    <tr>\n",
       "      <th>0</th>\n",
       "      <td>200.0</td>\n",
       "      <td>5.298317</td>\n",
       "      <td>0</td>\n",
       "      <td>0</td>\n",
       "      <td>0</td>\n",
       "      <td>0</td>\n",
       "      <td>0</td>\n",
       "      <td>0</td>\n",
       "      <td>0</td>\n",
       "      <td>0</td>\n",
       "      <td>...</td>\n",
       "      <td>0</td>\n",
       "      <td>0</td>\n",
       "      <td>0</td>\n",
       "      <td>0</td>\n",
       "      <td>0</td>\n",
       "      <td>0</td>\n",
       "      <td>0</td>\n",
       "      <td>0</td>\n",
       "      <td>0</td>\n",
       "      <td>0</td>\n",
       "    </tr>\n",
       "    <tr>\n",
       "      <th>1</th>\n",
       "      <td>900.0</td>\n",
       "      <td>6.802395</td>\n",
       "      <td>0</td>\n",
       "      <td>0</td>\n",
       "      <td>0</td>\n",
       "      <td>0</td>\n",
       "      <td>0</td>\n",
       "      <td>0</td>\n",
       "      <td>0</td>\n",
       "      <td>0</td>\n",
       "      <td>...</td>\n",
       "      <td>0</td>\n",
       "      <td>0</td>\n",
       "      <td>0</td>\n",
       "      <td>0</td>\n",
       "      <td>0</td>\n",
       "      <td>0</td>\n",
       "      <td>0</td>\n",
       "      <td>0</td>\n",
       "      <td>1</td>\n",
       "      <td>0</td>\n",
       "    </tr>\n",
       "    <tr>\n",
       "      <th>2</th>\n",
       "      <td>475.0</td>\n",
       "      <td>6.163315</td>\n",
       "      <td>0</td>\n",
       "      <td>0</td>\n",
       "      <td>0</td>\n",
       "      <td>0</td>\n",
       "      <td>0</td>\n",
       "      <td>0</td>\n",
       "      <td>0</td>\n",
       "      <td>0</td>\n",
       "      <td>...</td>\n",
       "      <td>0</td>\n",
       "      <td>0</td>\n",
       "      <td>0</td>\n",
       "      <td>0</td>\n",
       "      <td>0</td>\n",
       "      <td>0</td>\n",
       "      <td>0</td>\n",
       "      <td>0</td>\n",
       "      <td>0</td>\n",
       "      <td>0</td>\n",
       "    </tr>\n",
       "    <tr>\n",
       "      <th>3</th>\n",
       "      <td>350.0</td>\n",
       "      <td>5.857933</td>\n",
       "      <td>0</td>\n",
       "      <td>0</td>\n",
       "      <td>0</td>\n",
       "      <td>0</td>\n",
       "      <td>0</td>\n",
       "      <td>0</td>\n",
       "      <td>0</td>\n",
       "      <td>0</td>\n",
       "      <td>...</td>\n",
       "      <td>0</td>\n",
       "      <td>0</td>\n",
       "      <td>0</td>\n",
       "      <td>0</td>\n",
       "      <td>0</td>\n",
       "      <td>0</td>\n",
       "      <td>0</td>\n",
       "      <td>0</td>\n",
       "      <td>0</td>\n",
       "      <td>0</td>\n",
       "    </tr>\n",
       "    <tr>\n",
       "      <th>4</th>\n",
       "      <td>325.0</td>\n",
       "      <td>5.783825</td>\n",
       "      <td>0</td>\n",
       "      <td>0</td>\n",
       "      <td>0</td>\n",
       "      <td>0</td>\n",
       "      <td>0</td>\n",
       "      <td>0</td>\n",
       "      <td>0</td>\n",
       "      <td>0</td>\n",
       "      <td>...</td>\n",
       "      <td>0</td>\n",
       "      <td>0</td>\n",
       "      <td>0</td>\n",
       "      <td>0</td>\n",
       "      <td>0</td>\n",
       "      <td>0</td>\n",
       "      <td>0</td>\n",
       "      <td>0</td>\n",
       "      <td>0</td>\n",
       "      <td>0</td>\n",
       "    </tr>\n",
       "  </tbody>\n",
       "</table>\n",
       "<p>5 rows × 253 columns</p>\n",
       "</div>"
      ],
      "text/plain": [
       "   loan_amount  log_amount  activity_name_Agriculture  \\\n",
       "0        200.0    5.298317                          0   \n",
       "1        900.0    6.802395                          0   \n",
       "2        475.0    6.163315                          0   \n",
       "3        350.0    5.857933                          0   \n",
       "4        325.0    5.783825                          0   \n",
       "\n",
       "   activity_name_Air Conditioning  activity_name_Animal Sales  \\\n",
       "0                               0                           0   \n",
       "1                               0                           0   \n",
       "2                               0                           0   \n",
       "3                               0                           0   \n",
       "4                               0                           0   \n",
       "\n",
       "   activity_name_Aquaculture  activity_name_Arts  activity_name_Auto Repair  \\\n",
       "0                          0                   0                          0   \n",
       "1                          0                   0                          0   \n",
       "2                          0                   0                          0   \n",
       "3                          0                   0                          0   \n",
       "4                          0                   0                          0   \n",
       "\n",
       "   activity_name_Bakery  activity_name_Balut-Making  ...  country_name_Turkey  \\\n",
       "0                     0                           0  ...                    0   \n",
       "1                     0                           0  ...                    0   \n",
       "2                     0                           0  ...                    0   \n",
       "3                     0                           0  ...                    0   \n",
       "4                     0                           0  ...                    0   \n",
       "\n",
       "   country_name_Uganda  country_name_Ukraine  country_name_United States  \\\n",
       "0                    0                     0                           0   \n",
       "1                    0                     0                           0   \n",
       "2                    0                     0                           0   \n",
       "3                    0                     0                           0   \n",
       "4                    0                     0                           0   \n",
       "\n",
       "   country_name_Vietnam  country_name_Yemen  country_name_Zambia  \\\n",
       "0                     0                   0                    0   \n",
       "1                     0                   0                    0   \n",
       "2                     0                   0                    0   \n",
       "3                     0                   0                    0   \n",
       "4                     0                   0                    0   \n",
       "\n",
       "   country_name_Zimbabwe  borrower_genders_G  borrower_genders_M  \n",
       "0                      0                   0                   0  \n",
       "1                      0                   1                   0  \n",
       "2                      0                   0                   0  \n",
       "3                      0                   0                   0  \n",
       "4                      0                   0                   0  \n",
       "\n",
       "[5 rows x 253 columns]"
      ]
     },
     "execution_count": 22,
     "metadata": {},
     "output_type": "execute_result"
    }
   ],
   "source": [
    "X.head()"
   ]
  },
  {
   "cell_type": "markdown",
   "metadata": {},
   "source": [
    "### Decision tree model\n",
    "#### https://www.geeksforgeeks.org/python-decision-tree-regression-using-sklearn/"
   ]
  },
  {
   "cell_type": "code",
   "execution_count": 23,
   "metadata": {},
   "outputs": [],
   "source": [
    "# param_grid = {\n",
    "#                  'max_depth': [2, 16, 32, 64],\n",
    "#               'min_samples_split': [5, 10, 15, 20],\n",
    "#               'min_samples_leaf': [2, 3, 4, 5, 6],\n",
    "#               'ccp_alpha': [0, 0.001, 0.01, 0.1, 1, 10]},\n",
    "\n",
    "DT_hyper_params = {\n",
    "                   'max_depth': [None],\n",
    "                   'min_samples_leaf': [2, 8, 16],\n",
    "#                    'min_samples_split': [2, 4, 8],\n",
    "                   'ccp_alpha': [0, .001]},\n",
    "\n"
   ]
  },
  {
   "cell_type": "code",
   "execution_count": 24,
   "metadata": {},
   "outputs": [],
   "source": [
    "regressor = DecisionTreeRegressor(random_state = 42)  "
   ]
  },
  {
   "cell_type": "code",
   "execution_count": 25,
   "metadata": {},
   "outputs": [
    {
     "name": "stdout",
     "output_type": "stream",
     "text": [
      "Fitting 5 folds for each of 6 candidates, totalling 30 fits\n"
     ]
    },
    {
     "name": "stderr",
     "output_type": "stream",
     "text": [
      "[Parallel(n_jobs=6)]: Using backend LokyBackend with 6 concurrent workers.\n",
      "[Parallel(n_jobs=6)]: Done  30 out of  30 | elapsed:  9.6min finished\n"
     ]
    },
    {
     "name": "stdout",
     "output_type": "stream",
     "text": [
      "Wall time: 10min 52s\n",
      "652.3372507095337\n"
     ]
    }
   ],
   "source": [
    "d_tree_grid = GridSearchCV(estimator = regressor,\n",
    "                           param_grid = DT_hyper_params,\n",
    "                           cv = 5,\n",
    "                           n_jobs = 6,\n",
    "                           verbose = 1)\n",
    "\n",
    "import time\n",
    "\n",
    "# Start our timer.\n",
    "t0 = time.time()\n",
    "\n",
    "# Let's GridSearch over the above parameters on our training data.\n",
    "%time d_tree_grid.fit(X_train, y_train)\n",
    "\n",
    "# Stop our timer and print the result.\n",
    "print(time.time() - t0)\n"
   ]
  },
  {
   "cell_type": "code",
   "execution_count": 26,
   "metadata": {},
   "outputs": [
    {
     "data": {
      "image/png": "[encoded data removed]",
      "text/plain": [
       "<Figure size 432x288 with 1 Axes>"
      ]
     },
     "metadata": {
      "needs_background": "light"
     },
     "output_type": "display_data"
    }
   ],
   "source": [
    "#Produce Decision Tree predictions and model scores\n",
    "\n",
    "y_train_preds = d_tree_grid.predict(X_train)\n",
    "resids = y_train - y_train_preds\n",
    "plt.hist(resids, bins=50);\n",
    "decision_tree_train_mse = mean_squared_error(np.exp(y_train), np.exp(y_train_preds))\n",
    "decision_tree_train_rmse = np.sqrt(decision_tree_train_mse)\n",
    "\n",
    "y_test_preds = d_tree_grid.predict(X_test)\n",
    "resids = y_test - y_test_preds\n",
    "\n",
    "plt.hist(resids, bins=50);\n",
    "decision_tree_test_mse = mean_squared_error(np.exp(y_test), np.exp(y_test_preds))\n",
    "decision_tree_test_rmse = np.sqrt(decision_tree_test_mse)\n",
    "\n",
    "plt.title('Decision tree residuals')\n",
    "\n",
    "DT_best_score=d_tree_grid.best_score_\n",
    "DT_test_score=d_tree_grid.score(X_test, y_test)\n",
    "\n"
   ]
  },
  {
   "cell_type": "code",
   "execution_count": 27,
   "metadata": {},
   "outputs": [
    {
     "name": "stdout",
     "output_type": "stream",
     "text": [
      "DT_best params:  {'ccp_alpha': 0, 'max_depth': None, 'min_samples_leaf': 16}\n",
      "DT best train score:  0.22545179815651623\n",
      "DT test score:  0.22771993291043013\n",
      "DT train rmse:  276.11385351393443\n",
      "DT test rmse:  280.3146779529371\n"
     ]
    }
   ],
   "source": [
    "print('DT_best params: ', d_tree_grid.best_params_)\n",
    "print('DT best train score: ', DT_best_score)\n",
    "print('DT test score: ', DT_test_score)\n",
    "print('DT train rmse: ', decision_tree_train_rmse)\n",
    "print('DT test rmse: ', decision_tree_test_rmse)"
   ]
  },
  {
   "cell_type": "code",
   "execution_count": null,
   "metadata": {},
   "outputs": [],
   "source": []
  },
  {
   "cell_type": "code",
   "execution_count": 28,
   "metadata": {},
   "outputs": [],
   "source": [
    "# https://www.geeksforgeeks.org/python-decision-tree-regression-using-sklearn/\n",
    "\n",
    "# # arange for creating a range of values  \n",
    "# # from min value of X to max value of X  \n",
    "# # with a difference of 0.01 between two \n",
    "# # consecutive values \n",
    "# X_grid = np.arange(min(X), max(X), 0.01) \n",
    "  \n",
    "# # reshape for reshaping the data into  \n",
    "# # a len(X_grid)*1 array, i.e. to make \n",
    "# # a column out of the X_grid values \n",
    "# X_grid = X_grid.reshape((len(X_grid), 1))  \n",
    "  \n",
    "# # scatter plot for original data \n",
    "# plt.scatter(X, y, color = 'red') \n",
    "  \n",
    "# # plot predicted data \n",
    "# plt.plot(X_grid, regressor.predict(X_grid), color = 'blue')  \n",
    "  \n",
    "# # specify title \n",
    "# plt.title('Profit to Production Cost (Decision Tree Regression)')  \n",
    "  \n",
    "# # specify X axis label \n",
    "# plt.xlabel('Production Cost') \n",
    "  \n",
    "# # specify Y axis label \n",
    "# plt.ylabel('Profit') \n",
    "  \n",
    "# # show the plot \n",
    "# plt.show() "
   ]
  },
  {
   "cell_type": "code",
   "execution_count": 29,
   "metadata": {},
   "outputs": [],
   "source": [
    "# # Import plot_tree from sklearn.tree module.\n",
    "# from sklearn.tree import plot_tree\n",
    "\n",
    "# # Establish size of figure.\n",
    "# plt.figure(figsize = (50, 30))\n",
    "\n",
    "# Plot our tree.\n",
    "# plot_tree(d_tree_grid.best_estimator_,\n",
    "#           feature_names = X_train.columns,\n",
    "#           filled = True);"
   ]
  },
  {
   "cell_type": "code",
   "execution_count": 30,
   "metadata": {},
   "outputs": [
    {
     "data": {
      "text/plain": [
       "DecisionTreeRegressor(ccp_alpha=0, max_depth=7, min_samples_leaf=2,\n",
       "                      min_samples_split=5, random_state=42)"
      ]
     },
     "execution_count": 30,
     "metadata": {},
     "output_type": "execute_result"
    }
   ],
   "source": [
    "# # create a regressor object \n",
    "# regressor = DecisionTreeRegressor(ccp_alpha=0, max_depth=7, min_samples_leaf=2, min_samples_split=5, random_state = 42)  \n",
    "  \n",
    "# # fit the regressor with X and Y data \n",
    "# regressor.fit(X, y) "
   ]
  },
  {
   "cell_type": "code",
   "execution_count": 31,
   "metadata": {},
   "outputs": [],
   "source": [
    "# https://stackoverflow.com/questions/41942109/plotting-the-digraph-with-graphviz-in-python-from-dot-file/41942937\n",
    "\n",
    "# from sklearn.tree import export_graphviz\n",
    "\n",
    "# https://scikit-learn.org/stable/modules/generated/sklearn.tree.plot_tree.html#examples-using-sklearn-tree-plot-tree\n",
    "\n",
    "# tree.plot_tree(regressor)\n",
    "\n"
   ]
  },
  {
   "cell_type": "markdown",
   "metadata": {},
   "source": [
    "### Bagging decision tree model"
   ]
  },
  {
   "cell_type": "code",
   "execution_count": null,
   "metadata": {},
   "outputs": [],
   "source": []
  },
  {
   "cell_type": "code",
   "execution_count": 21,
   "metadata": {},
   "outputs": [],
   "source": [
    "Bagging_DT_hyper_params = {\n",
    "#                             'max_depth': [8, 16, 32],\n",
    "#                             'max_depth': [20],    \n",
    "                            'max_features': [200],\n",
    "                            'max_samples': [0.5, 1.0],\n",
    "#                             'min_samples_leaf': [2, 8, 16],\n",
    "#                             'min_samples_split': [2, 4, 8]\n",
    "#                           'ccp_alpha': [0, 0.001, 0.01, 0.1, 1, 10],\n",
    "#                           'bootstrap_features': [True, False]\n",
    "                                 }"
   ]
  },
  {
   "cell_type": "code",
   "execution_count": 22,
   "metadata": {},
   "outputs": [
    {
     "name": "stdout",
     "output_type": "stream",
     "text": [
      "Fitting 5 folds for each of 2 candidates, totalling 10 fits\n"
     ]
    },
    {
     "name": "stderr",
     "output_type": "stream",
     "text": [
      "[Parallel(n_jobs=6)]: Using backend LokyBackend with 6 concurrent workers.\n",
      "[Parallel(n_jobs=6)]: Done  10 out of  10 | elapsed: 21.8min remaining:    0.0s\n",
      "[Parallel(n_jobs=6)]: Done  10 out of  10 | elapsed: 21.8min finished\n"
     ]
    },
    {
     "name": "stdout",
     "output_type": "stream",
     "text": [
      "Wall time: 28min 2s\n",
      "1682.4035761356354\n",
      "Fitting 5 folds for each of 2 candidates, totalling 10 fits\n"
     ]
    },
    {
     "name": "stderr",
     "output_type": "stream",
     "text": [
      "[Parallel(n_jobs=6)]: Using backend LokyBackend with 6 concurrent workers.\n",
      "[Parallel(n_jobs=6)]: Done  10 out of  10 | elapsed: 18.2min remaining:    0.0s\n",
      "[Parallel(n_jobs=6)]: Done  10 out of  10 | elapsed: 18.2min finished\n"
     ]
    },
    {
     "name": "stdout",
     "output_type": "stream",
     "text": [
      "3066.1118030548096\n"
     ]
    }
   ],
   "source": [
    "import time\n",
    "\n",
    "# Start our timer.\n",
    "t0 = time.time()\n",
    "\n",
    "\n",
    "Bagging_DT_grid = GridSearchCV(estimator = BaggingRegressor(),\n",
    "                    param_grid = Bagging_DT_hyper_params,\n",
    "                    n_jobs = 6,                               \n",
    "                    cv = 5,\n",
    "                    verbose = 1)\n",
    "\n",
    "import time\n",
    "\n",
    "# Start our timer.\n",
    "t0 = time.time()\n",
    "\n",
    "# Let's GridSearch over the above parameters on our training data.\n",
    "%time Bagging_DT_grid.fit(X_train, y_train)\n",
    "\n",
    "# Stop our timer and print the result.\n",
    "print(time.time() - t0)\n",
    "\n",
    "Bagging_DT_grid.fit(X_train, y_train)\n",
    "\n",
    "# Stop our timer and print the result.\n",
    "print(time.time() - t0)\n",
    "\n"
   ]
  },
  {
   "cell_type": "raw",
   "metadata": {},
   "source": []
  },
  {
   "cell_type": "code",
   "execution_count": 23,
   "metadata": {},
   "outputs": [
    {
     "data": {
      "image/png": "[encoded data removed]",
      "text/plain": [
       "<Figure size 432x288 with 1 Axes>"
      ]
     },
     "metadata": {
      "needs_background": "light"
     },
     "output_type": "display_data"
    }
   ],
   "source": [
    "y_train_preds = Bagging_DT_grid.predict(X_train)\n",
    "resids = y_train - y_train_preds\n",
    "plt.hist(resids, bins=50);\n",
    "bagged_decision_tree_train_mse = mean_squared_error(np.exp(y_train), np.exp(y_train_preds))\n",
    "bagged_decision_tree_train_rmse = np.sqrt(bagged_decision_tree_train_mse) \n",
    "\n",
    "y_test_preds = Bagging_DT_grid.predict(X_test)\n",
    "resids = y_test - y_test_preds\n",
    "plt.hist(resids, bins=50);\n",
    "bagged_decision_tree_test_mse = mean_squared_error(np.exp(y_test), np.exp(y_test_preds))\n",
    "bagged_decision_tree_test_rmse = np.sqrt(bagged_decision_tree_test_mse)\n",
    "\n",
    "\n"
   ]
  },
  {
   "cell_type": "code",
   "execution_count": null,
   "metadata": {},
   "outputs": [],
   "source": []
  },
  {
   "cell_type": "code",
   "execution_count": 24,
   "metadata": {},
   "outputs": [
    {
     "name": "stdout",
     "output_type": "stream",
     "text": [
      "Bagging DT best params:  {'max_features': 200, 'max_samples': 0.5}\n",
      "Bagging DT best score:  0.22044972281560296\n",
      "Bagging DT test score:  0.22203188983343747\n",
      "Bagging DT train rmse:  273.48437026357914\n",
      "Bagging DT  test rmse:  282.411559002235\n"
     ]
    }
   ],
   "source": [
    "print('Bagging DT best params: ', Bagging_DT_grid.best_params_)\n",
    "print('Bagging DT best score: ', Bagging_DT_grid.best_score_)\n",
    "print('Bagging DT test score: ', Bagging_DT_grid.score(X_test, y_test))\n",
    "print('Bagging DT train rmse: ', bagged_decision_tree_train_rmse)\n",
    "print('Bagging DT  test rmse: ', bagged_decision_tree_test_rmse)"
   ]
  },
  {
   "cell_type": "code",
   "execution_count": null,
   "metadata": {},
   "outputs": [],
   "source": []
  }
 ],
 "metadata": {
  "kernelspec": {
   "display_name": "Python 3",
   "language": "python",
   "name": "python3"
  },
  "language_info": {
   "codemirror_mode": {
    "name": "ipython",
    "version": 3
   },
   "file_extension": ".py",
   "mimetype": "text/x-python",
   "name": "python",
   "nbconvert_exporter": "python",
   "pygments_lexer": "ipython3",
   "version": "3.8.3"
  }
 },
 "nbformat": 4,
 "nbformat_minor": 4
}
