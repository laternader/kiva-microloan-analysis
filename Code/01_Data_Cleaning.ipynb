{
 "cells": [
  {
   "cell_type": "code",
   "execution_count": 1,
   "metadata": {},
   "outputs": [],
   "source": [
    "import pandas as pd\n",
    "import numpy as np\n",
    "import matplotlib.pyplot as plt"
   ]
  },
  {
   "cell_type": "code",
   "execution_count": 2,
   "metadata": {},
   "outputs": [],
   "source": [
    "# pd.set_option('display.max_columns', None)\n",
    "# pd.set_option('display.max_rows', None)"
   ]
  },
  {
   "cell_type": "code",
   "execution_count": 2,
   "metadata": {},
   "outputs": [],
   "source": [
    "df = pd.read_csv('../../timmy-data/loans.csv')"
   ]
  },
  {
   "cell_type": "code",
   "execution_count": 3,
   "metadata": {},
   "outputs": [
    {
     "data": {
      "text/plain": [
       "Index(['LOAN_ID', 'LOAN_NAME', 'ORIGINAL_LANGUAGE', 'DESCRIPTION',\n",
       "       'DESCRIPTION_TRANSLATED', 'FUNDED_AMOUNT', 'LOAN_AMOUNT', 'STATUS',\n",
       "       'IMAGE_ID', 'VIDEO_ID', 'ACTIVITY_NAME', 'SECTOR_NAME', 'LOAN_USE',\n",
       "       'COUNTRY_CODE', 'COUNTRY_NAME', 'TOWN_NAME', 'CURRENCY_POLICY',\n",
       "       'CURRENCY_EXCHANGE_COVERAGE_RATE', 'CURRENCY', 'PARTNER_ID',\n",
       "       'POSTED_TIME', 'PLANNED_EXPIRATION_TIME', 'DISBURSE_TIME',\n",
       "       'RAISED_TIME', 'LENDER_TERM', 'NUM_LENDERS_TOTAL',\n",
       "       'NUM_JOURNAL_ENTRIES', 'NUM_BULK_ENTRIES', 'TAGS', 'BORROWER_NAMES',\n",
       "       'BORROWER_GENDERS', 'BORROWER_PICTURED', 'REPAYMENT_INTERVAL',\n",
       "       'DISTRIBUTION_MODEL'],\n",
       "      dtype='object')"
      ]
     },
     "execution_count": 3,
     "metadata": {},
     "output_type": "execute_result"
    }
   ],
   "source": [
    "df.columns"
   ]
  },
  {
   "cell_type": "code",
   "execution_count": 4,
   "metadata": {},
   "outputs": [],
   "source": [
    "df.columns = df.columns.str.lower()\n",
    "\n",
    "df = df[['loan_id', \n",
    "         'status', \n",
    "         'posted_time', \n",
    "         'raised_time', \n",
    "         'loan_amount', \n",
    "         'image_id', \n",
    "         'video_id', \n",
    "         'activity_name', \n",
    "         'sector_name',\n",
    "         'country_name', \n",
    "         'lender_term', \n",
    "         'repayment_interval', \n",
    "         'borrower_genders'\n",
    "        ]]"
   ]
  },
  {
   "cell_type": "code",
   "execution_count": 5,
   "metadata": {},
   "outputs": [],
   "source": [
    "# Dropping null raised_time; this is what we are using as our target; many\n",
    "# were active campaigns; no way of imputing this; considered using disburse_time,\n",
    "# but sometimes this is before the raised time, sometimes it's after\n",
    "df.dropna(subset=['raised_time'], inplace=True)\n",
    "\n",
    "# Keep only loans that have been funded\n",
    "df = df[df.status == 'funded']"
   ]
  },
  {
   "cell_type": "code",
   "execution_count": 6,
   "metadata": {},
   "outputs": [],
   "source": [
    "df['posted_time'] = pd.to_datetime(df['posted_time'])\n",
    "df['raised_time'] = pd.to_datetime(df['raised_time'])\n",
    "df['time_to_fund'] = df['raised_time'] - df['posted_time']\n",
    "\n",
    "# https://stackoverflow.com/questions/36615565/is-it-possible-to-convert-timedelta-into-hours\n",
    "df['hours_to_fund'] = np.ceil(df['time_to_fund'] / np.timedelta64(1, 'h')).astype('int64')\n",
    "\n",
    "# https://stackoverflow.com/questions/30405413/python-pandas-extract-year-from-datetime-dfyear-dfdate-year-is-not\n",
    "df['loan_year'] = df['posted_time'].dt.year\n",
    "\n",
    "# https://stackoverflow.com/questions/30222533/create-a-day-of-week-column-in-a-pandas-dataframe-using-python\n",
    "df['day_posted'] = df['posted_time'].dt.day_name()\n",
    "\n",
    "# Drop any negative values for hours_to_fund\n",
    "df = df[df.hours_to_fund >= 0]"
   ]
  },
  {
   "cell_type": "code",
   "execution_count": 7,
   "metadata": {},
   "outputs": [],
   "source": [
    "# Convert image_id/video_id to binary whether included or not\n",
    "df['image_incl'] = np.where(df['image_id'].isnull(), 0, 1)\n",
    "df['video_incl'] = np.where(df['video_id'].isnull(), 0, 1)"
   ]
  },
  {
   "cell_type": "code",
   "execution_count": 8,
   "metadata": {},
   "outputs": [],
   "source": [
    "# Assign single female borrowers to 'F', males to 'M', and any borrowers with more than one person to 'G'\n",
    "df['borrower_genders'] = np.where(df['borrower_genders'] == 'female', 'F', (np.where(df['borrower_genders'] == 'male', 'M', 'G')))"
   ]
  },
  {
   "cell_type": "code",
   "execution_count": 9,
   "metadata": {},
   "outputs": [],
   "source": [
    "# Dropping unneeded columns; posted_time and raised_time have been converted into\n",
    "# usable data; image_id and video_id have been coded to whether present or not\n",
    "df.drop(columns=['image_id', 'video_id'], inplace=True)   # 'posted_time', 'raised_time', \n",
    "\n",
    "# Dropping null lender_terms\n",
    "df.dropna(subset=['lender_term'], inplace=True)\n",
    "\n",
    "# Dropping any loans from countries with less than five loans historically\n",
    "# https://stackoverflow.com/questions/49735683/python-removing-rows-on-count-condition\n",
    "df = df.groupby('country_name').filter(lambda x : len(x)>5)"
   ]
  },
  {
   "cell_type": "code",
   "execution_count": 10,
   "metadata": {},
   "outputs": [],
   "source": [
    "df.to_csv('../../timmy-data/loans_cleaned.csv', index=False)"
   ]
  },
  {
   "cell_type": "code",
   "execution_count": null,
   "metadata": {},
   "outputs": [],
   "source": []
  }
 ],
 "metadata": {
  "kernelspec": {
   "display_name": "Python 3",
   "language": "python",
   "name": "python3"
  },
  "language_info": {
   "codemirror_mode": {
    "name": "ipython",
    "version": 3
   },
   "file_extension": ".py",
   "mimetype": "text/x-python",
   "name": "python",
   "nbconvert_exporter": "python",
   "pygments_lexer": "ipython3",
   "version": "3.7.6"
  }
 },
 "nbformat": 4,
 "nbformat_minor": 4
}
